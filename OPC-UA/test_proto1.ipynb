{
 "cells": [
  {
   "cell_type": "code",
   "execution_count": 1,
   "metadata": {},
   "outputs": [],
   "source": [
    "import google.protobuf as pf\n",
    "import sys\n",
    "import time\n",
    "from opcua import ua, Server,Client\n",
    "import socket\n",
    "import messages_pb2"
   ]
  },
  {
   "cell_type": "code",
   "execution_count": 2,
   "metadata": {},
   "outputs": [],
   "source": [
    "UDP_IP = \"192.168.0.1\"\n",
    "UDP_PORT = 7000\n",
    "\n",
    "sock = socket.socket(socket.AF_INET, # Internet\n",
    "                     socket.SOCK_DGRAM) # UDP\n",
    "sock.bind((UDP_IP, UDP_PORT))"
   ]
  },
  {
   "cell_type": "code",
   "execution_count": 3,
   "metadata": {},
   "outputs": [],
   "source": [
    "data, addr = sock.recvfrom(1024) # buffer size is 1024 bytes        \n",
    "ProtoData = messages_pb2.DataMessage()\n",
    "ProtoData.ParseFromString(data)\n",
    "\n",
    "#t# setup our server\n",
    "server = Server()\n",
    "server.set_endpoint(\"opc.tcp://192.168.0.1:7000\")\n",
    "\n",
    "# setup our own namespace, not really necessary but should as spec\n",
    "uri = \"http://examples.freeopcua.github.io\"\n",
    "idx = server.register_namespace(uri)\n",
    "# get Objects node, this is where we should put our nodes\n",
    "objects = server.get_objects_node()\n"
   ]
  },
  {
   "cell_type": "code",
   "execution_count": 4,
   "metadata": {},
   "outputs": [],
   "source": [
    "myobj = objects.add_object(idx, \"MyObject\")\n",
    "myobj.add_property(0, \"Radarmodell0\", \"TI\")\n",
    "myobj.add_property(1, \"Radarmodell1\", \"TI\")\n",
    "myobj.add_property(2, \"Radarmodell2\", \"TI\")\n",
    "myobj.add_property(3, \"Radarmodell3\", \"TI\")\n",
    "myobj.add_property(4, \"Radarmodell4\", \"TI\")\n",
    "myvar_id               = myobj.add_variable(idx, \"id\",0)\n",
    "myvar_sample_number    = myobj.add_variable(idx, \"sample_number\",1)\n",
    "myvar_unix_time        = myobj.add_variable(idx, \"myvar_unix_time\",2)\n",
    "myvar_unix_time_nsecs  = myobj.add_variable(idx, \"unix_time_nsecs\",3)\n",
    "myvar_time_uncertainty = myobj.add_variable(idx, \"time_uncertainty\",4)\n",
    "myvar_Data_01          = myobj.add_variable(idx, \"Data_01\",5)\n",
    "myvar_Data_02          = myobj.add_variable(idx, \"Data_02\",6)\n",
    "myvar_Data_03          = myobj.add_variable(idx, \"Data_03\",7)\n",
    "myvar_Data_04          = myobj.add_variable(idx, \"Data_04\",8)\n",
    "\n",
    " \n",
    "myvar_id.set_writable()         \n",
    "myvar_sample_number.set_writable()\n",
    "myvar_unix_time.set_writable()\n",
    "myvar_unix_time_nsecs.set_writable() \n",
    "myvar_time_uncertainty.set_writable()\n",
    "myvar_Data_01.set_writable()         \n",
    "myvar_Data_02.set_writable()         \n",
    "myvar_Data_03.set_writable()         \n",
    "myvar_Data_04.set_writable()         \n"
   ]
  },
  {
   "cell_type": "code",
   "execution_count": 5,
   "metadata": {},
   "outputs": [
    {
     "name": "stderr",
     "output_type": "stream",
     "text": [
      "Endpoints other than open requested but private key and certificate are not set.\n",
      "Listening on 192.168.0.1:7000\n"
     ]
    }
   ],
   "source": [
    "server.start()"
   ]
  },
  {
   "cell_type": "code",
   "execution_count": null,
   "metadata": {},
   "outputs": [],
   "source": [
    "while True:\n",
    "    data, addr = sock.recvfrom(1024) # buffer size is 1024 bytes        \n",
    "    ProtoData = messages_pb2.DataMessage()\n",
    "    ProtoData.ParseFromString(data)\n",
    "    myvar_id.set_data_value(\"id=\"+str(ProtoData.id))\n",
    "    myvar_sample_number.set_data_value(\"sample_number=\"+str(ProtoData.sample_number))\n",
    "    myvar_unix_time.set_data_value(\"unix_time=\"+str(ProtoData.unix_time))\n",
    "    myvar_unix_time_nsecs.set_data_value(\"unix_time_nsecs=\"+str(ProtoData.unix_time_nsecs))\n",
    "    myvar_time_uncertainty.set_data_value(\"time_uncertainty=\"+str(ProtoData.time_uncertainty))\n",
    "    myvar_Data_01.set_data_value(\"Data_01=\"+str(ProtoData.Data_01))\n",
    "    myvar_Data_02.set_data_value(\"Data_02=\"+str(ProtoData.Data_02))\n",
    "    myvar_Data_03.set_data_value(\"Data_03=\"+str(ProtoData.Data_03))\n",
    "    myvar_Data_04.set_data_value(\"Data_01=\"+str(ProtoData.Data_04))\n",
    "\n",
    "\n",
    "\n",
    "\n",
    "\n",
    "#myvar.set_value(str(ProtoData.sample_number)+\"sample\")\n",
    "\n",
    "\n",
    "        #myvar.set_value(ProtoData.sample_number)\n",
    "            \n",
    "   #finally:\n",
    "       #close connection, remove subcsriptions, etc\n",
    "       \n",
    "   #except KeyboardInterrupt:\n",
    "    #      server.stop()\n",
    "   #pass"
   ]
  },
  {
   "cell_type": "code",
   "execution_count": null,
   "metadata": {},
   "outputs": [],
   "source": []
  },
  {
   "cell_type": "code",
   "execution_count": null,
   "metadata": {},
   "outputs": [],
   "source": [
    "def proto_reader():\n",
    "    while True:\n",
    "        data, addr = sock.recvfrom(1024) # buffer size is 1024 bytes        \n",
    "        #print(data)\n",
    "        ProtoData = messages_pb2.DataMessage()\n",
    "        ProtoData.ParseFromString(data)\n",
    "        print(ProtoData)\n",
    "        #return ProtoData"
   ]
  },
  {
   "cell_type": "code",
   "execution_count": null,
   "metadata": {},
   "outputs": [],
   "source": []
  },
  {
   "cell_type": "code",
   "execution_count": null,
   "metadata": {},
   "outputs": [],
   "source": [
    "def proto_reader():\n",
    "    while True:\n",
    "        data, addr = sock.recvfrom(1024) # buffer size is 1024 bytes        \n",
    "        ProtoData = messages_pb2.DataMessage()\n",
    "        ProtoData.ParseFromString(data)\n",
    "        print(ProtoData.id,ProtoData.sample_number,\n",
    "              ProtoData.unix_time,ProtoData.unix_time_nsecs,\n",
    "              ProtoData.time_uncertainty,ProtoData.Data_01,\n",
    "              ProtoData.Data_02,ProtoData.Data_03,ProtoData.Data_04)"
   ]
  },
  {
   "cell_type": "code",
   "execution_count": null,
   "metadata": {},
   "outputs": [],
   "source": [
    "proto_reader()"
   ]
  },
  {
   "cell_type": "code",
   "execution_count": null,
   "metadata": {},
   "outputs": [],
   "source": [
    "\n",
    "AllData=[ProtoData.id,\n",
    "   ProtoData.sample_number,\n",
    "   ProtoData.unix_time,\n",
    "   ProtoData.unix_time_nsecs,\n",
    "   ProtoData.time_uncertainty,\n",
    "   int(ProtoData.Data_01),\n",
    "   int(ProtoData.Data_02),\n",
    "   int(ProtoData.Data_03),\n",
    "   int(ProtoData.Data_04)]"
   ]
  }
 ],
 "metadata": {
  "kernelspec": {
   "display_name": "Python 3",
   "language": "python",
   "name": "python3"
  },
  "language_info": {
   "codemirror_mode": {
    "name": "ipython",
    "version": 3
   },
   "file_extension": ".py",
   "mimetype": "text/x-python",
   "name": "python",
   "nbconvert_exporter": "python",
   "pygments_lexer": "ipython3",
   "version": "3.7.3"
  }
 },
 "nbformat": 4,
 "nbformat_minor": 2
}
