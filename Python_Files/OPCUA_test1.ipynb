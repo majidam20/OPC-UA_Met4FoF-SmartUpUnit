{
 "cells": [
  {
   "cell_type": "code",
   "execution_count": null,
   "metadata": {},
   "outputs": [],
   "source": [
    "import google.protobuf as pf\n",
    "import sys\n",
    "import time\n",
    "from opcua import ua, Server,Client\n",
    "import socket\n",
    "import messages_pb2\n",
    "import datetime as dt\n",
    "import opcua\n",
    "import threading\n"
   ]
  },
  {
   "cell_type": "code",
   "execution_count": null,
   "metadata": {},
   "outputs": [],
   "source": [
    "UDP_IP = \"192.168.2.100\"\n",
    "UDP_PORT = 7000\n",
    "\n",
    "sock = socket.socket(socket.AF_INET, # Internet\n",
    "                     socket.SOCK_DGRAM) # UDP\n",
    "sock.bind((UDP_IP, UDP_PORT))\n"
   ]
  },
  {
   "cell_type": "code",
   "execution_count": null,
   "metadata": {},
   "outputs": [],
   "source": [
    "import time\n",
    "import numpy as np\n",
    "import pandas as pd\n",
    "import holoviews as hv\n",
    "import streamz\n",
    "import streamz.dataframe\n",
    "import streamz\n",
    "from streamz import Stream\n",
    "from holoviews import opts\n",
    "from holoviews.streams import Pipe, Buffer\n",
    "from streamz.dataframe import Random,Series\n",
    "from streamz.dataframe import Series\n",
    "from pandas import DataFrame\n",
    "import hvplot.pandas\n",
    "\n",
    "\n",
    "import psutil\n",
    "import pandas as pd\n",
    "import holoviews as hv\n",
    "from holoviews import dim, opts\n",
    "from bokeh.plotting import figure, output_file, show\n",
    "import matplotlib.pyplot as plt\n",
    "from datetime import datetime\n",
    "from tornado.ioloop import PeriodicCallback\n",
    "from tornado import gen\n",
    "\n"
   ]
  },
  {
   "cell_type": "code",
   "execution_count": null,
   "metadata": {},
   "outputs": [],
   "source": [
    "#data, addr = sock.recvfrom(1024)        \n",
    "#ProtoData = messages_pb2.DataMessage()\n",
    "#ProtoData.ParseFromString(data)\n",
    "\n",
    "#t# setup our server\n",
    "server = Server()\n",
    "server.set_endpoint(\"opc.tcp://192.168.2.100:7000\")\n",
    "\n",
    "# setup our own namespace, not really necessary but should as spec\n",
    "uri = \"https://github.com/majidam20/OPC-UA_Met4FoF-SmartUpUnit/blob/master/Models/Model1.xml\"\n",
    "idx = server.register_namespace(uri)\n",
    "# get Objects node, this is where we should put our nodes\n",
    "objects = server.get_objects_node()\n"
   ]
  },
  {
   "cell_type": "code",
   "execution_count": null,
   "metadata": {},
   "outputs": [],
   "source": [
    "myobj = objects.add_object(idx, \"MyObject\")\n",
    "myobj.add_property(1, \"Radarmodell0\", \"TI\")\n",
    "myobj.add_property(1, \"Radarmodell1\", \"TI\")\n",
    "myobj.add_property(2, \"majid1\", 2)\n",
    "myobj.add_property(3, \"Radarmodell3\", \"TI\")\n",
    "myobj.add_property(4, \"Radarmodell4\", \"TI\")\n",
    "myvar_id               = myobj.add_variable(idx, \"id\",0)\n",
    "myvar_sample_number    = myobj.add_variable(idx, \"sample_number\",1)\n",
    "myvar_unix_time        = myobj.add_variable(idx, \"myvar_unix_time\",2)\n",
    "myvar_unix_time_nsecs  = myobj.add_variable(idx, \"unix_time_nsecs\",3)\n",
    "myvar_time_uncertainty = myobj.add_variable(idx, \"time_uncertainty\",4)\n",
    "myvar_Data_01          = myobj.add_variable(idx, \"Data_01\",5)\n",
    "myvar_Data_02          = myobj.add_variable(idx, \"Data_02\",6)\n",
    "myvar_Data_03          = myobj.add_variable(idx, \"Data_03\",7)\n",
    "myvar_Data_04          = myobj.add_variable(idx, \"Data_04\",8)\n",
    "\n",
    "myvar_Data_01.add_property(2,'Measurment_unit','Second^{2}')\n",
    "\n",
    "\n",
    " \n",
    "myvar_id.set_writable()         \n",
    "myvar_sample_number.set_writable()\n",
    "myvar_unix_time.set_writable()\n",
    "myvar_unix_time_nsecs.set_writable() \n",
    "myvar_time_uncertainty.set_writable()\n",
    "myvar_Data_01.set_writable()         \n",
    "myvar_Data_02.set_writable()         \n",
    "myvar_Data_03.set_writable()         \n",
    "myvar_Data_04.set_writable()         \n"
   ]
  },
  {
   "cell_type": "code",
   "execution_count": null,
   "metadata": {},
   "outputs": [],
   "source": [
    "server.start()"
   ]
  },
  {
   "cell_type": "code",
   "execution_count": null,
   "metadata": {},
   "outputs": [],
   "source": [
    "#server.stop()"
   ]
  },
  {
   "cell_type": "code",
   "execution_count": null,
   "metadata": {
    "scrolled": true
   },
   "outputs": [],
   "source": [
    "buffer1 = Buffer(np.zeros((0, 2)), length=50)\n",
    "buffer2 = Buffer(np.zeros((0, 2)), length=50)\n",
    "#@gen.coroutine\n",
    "def first():\n",
    "    while True: \n",
    "        data, addr = sock.recvfrom(1024)        \n",
    "        ProtoData = messages_pb2.DataMessage()\n",
    "        ProtoData.ParseFromString(data)\n",
    "        \n",
    "        \n",
    "        myvar_id.set_data_value(ProtoData.id)\n",
    "        myvar_sample_number.set_data_value(ProtoData.sample_number)\n",
    "        myvar_unix_time.set_data_value(ProtoData.unix_time)\n",
    "        myvar_unix_time_nsecs.set_data_value(ProtoData.unix_time_nsecs)\n",
    "        myvar_time_uncertainty.set_data_value(ProtoData.time_uncertainty)\n",
    "        myvar_Data_01.set_data_value(ProtoData.Data_01)\n",
    "        myvar_Data_02.set_data_value(ProtoData.Data_02)\n",
    "        myvar_Data_03.set_data_value(ProtoData.Data_03)\n",
    "        myvar_Data_04.set_data_value(ProtoData.Data_04)\n",
    "              \n",
    "        \n",
    "        buffer1.send(np.array([[ProtoData.unix_time,ProtoData.Data_01]]))\n",
    "        buffer2.send(np.array([[ProtoData.unix_time, ProtoData.Data_02]]))\n",
    "        \n",
    "\n",
    "h1=hv.DynamicMap(hv.Curve, streams=[buffer1]).opts(xlabel='time',ylabel='sensor data',color='blue',  \n",
    "                                               tools=['hover'],\n",
    "    padding=0.1, width=600,show_grid=True).relabel('Sensor Streaming')\n",
    " \n",
    "\n",
    "h2=hv.DynamicMap(hv.Curve, streams=[buffer2]).opts(xlabel='time',ylabel='sensor data',color='red',\n",
    "                                               tools=['hover'],\n",
    "    padding=0.1, width=600,show_grid=True).relabel('Sensor Streaming')\n",
    "\n",
    "\n",
    "\n",
    "(h1.relabel('sensor1') * h2.relabel('sensor2')).opts(\n",
    "    opts.Curve(width=500, show_grid=True),\n",
    "opts.Overlay(width=800, height=400, legend_position='top_left'))\n",
    "\n",
    "\n",
    "t = threading.Thread(target=first)\n",
    "t.daemon = True\n",
    "t.start()\n"
   ]
  },
  {
   "cell_type": "code",
   "execution_count": null,
   "metadata": {},
   "outputs": [],
   "source": []
  },
  {
   "cell_type": "code",
   "execution_count": null,
   "metadata": {},
   "outputs": [],
   "source": []
  },
  {
   "cell_type": "code",
   "execution_count": null,
   "metadata": {},
   "outputs": [],
   "source": [
    "#server.historize_node_data_change(myvar_Data_01)\n",
    "#cb = PeriodicCallback(f, 100)\n",
    "#cb.start()\n"
   ]
  },
  {
   "cell_type": "code",
   "execution_count": null,
   "metadata": {
    "scrolled": true
   },
   "outputs": [],
   "source": [
    "server.import_xml('model1.xml')\n"
   ]
  },
  {
   "cell_type": "code",
   "execution_count": null,
   "metadata": {},
   "outputs": [],
   "source": [
    "server.import_xml('model2.xml')\n"
   ]
  },
  {
   "cell_type": "code",
   "execution_count": null,
   "metadata": {},
   "outputs": [],
   "source": [
    "buffer1"
   ]
  },
  {
   "cell_type": "code",
   "execution_count": null,
   "metadata": {},
   "outputs": [],
   "source": [
    "server.manufacturer_name.replace('FreeOpcUa','Majidgol')"
   ]
  },
  {
   "cell_type": "code",
   "execution_count": null,
   "metadata": {},
   "outputs": [],
   "source": [
    "gol3=server.create_custom_variable_type(2,'gol3')"
   ]
  },
  {
   "cell_type": "code",
   "execution_count": null,
   "metadata": {},
   "outputs": [],
   "source": [
    "gol4=server.create_custom_data_type(2,'gol2')"
   ]
  },
  {
   "cell_type": "code",
   "execution_count": null,
   "metadata": {},
   "outputs": [],
   "source": [
    "gol3.add_property(2,'bnamemmm','vallll')"
   ]
  },
  {
   "cell_type": "code",
   "execution_count": null,
   "metadata": {},
   "outputs": [],
   "source": [
    "server.set_attribute_value(myvar_Data_01,'5555')"
   ]
  },
  {
   "cell_type": "code",
   "execution_count": null,
   "metadata": {},
   "outputs": [],
   "source": [
    "myvar_Data_01.add_variable_type(2,'bnameee',ua.DataTypeDefinition.ua_types.append(gol3))"
   ]
  },
  {
   "cell_type": "code",
   "execution_count": null,
   "metadata": {},
   "outputs": [],
   "source": [
    "#ua.attribute_ids.AttributeIds.Description\n",
    "myvar_Data_01.set_attribute(ua.attribute_ids.AttributeIds.Historizing,ua.DataValue(True))"
   ]
  },
  {
   "cell_type": "code",
   "execution_count": null,
   "metadata": {},
   "outputs": [],
   "source": [
    "myvar_Data_01.add_data_type(2,'qq')"
   ]
  },
  {
   "cell_type": "code",
   "execution_count": null,
   "metadata": {},
   "outputs": [],
   "source": [
    "myvar_Data_01.add_data_type(ua.VariantType."
   ]
  },
  {
   "cell_type": "code",
   "execution_count": null,
   "metadata": {},
   "outputs": [],
   "source": []
  },
  {
   "cell_type": "code",
   "execution_count": null,
   "metadata": {},
   "outputs": [],
   "source": []
  },
  {
   "cell_type": "code",
   "execution_count": null,
   "metadata": {},
   "outputs": [],
   "source": []
  },
  {
   "cell_type": "code",
   "execution_count": null,
   "metadata": {},
   "outputs": [],
   "source": []
  },
  {
   "cell_type": "code",
   "execution_count": null,
   "metadata": {},
   "outputs": [],
   "source": []
  },
  {
   "cell_type": "code",
   "execution_count": null,
   "metadata": {},
   "outputs": [],
   "source": [
    "while True:\n",
    "        data, addr = sock.recvfrom(1024) # buffer size is 1024 bytes        \n",
    "        ProtoData = messages_pb2.DataMessage()\n",
    "        ProtoData.ParseFromString(data)\n",
    "        myvar_id.set_data_value(\"id=\"+str(ProtoData.id))\n",
    "        myvar_sample_number.set_data_value(\"sample_number=\"+str(ProtoData.sample_number))\n",
    "        myvar_unix_time.set_data_value(\"unix_time=\"+str(ProtoData.unix_time))\n",
    "        myvar_unix_time_nsecs.set_data_value(\"unix_time_nsecs=\"+str(ProtoData.unix_time_nsecs))\n",
    "        myvar_time_uncertainty.set_data_value(\"time_uncertainty=\"+str(ProtoData.time_uncertainty))\n",
    "        myvar_Data_01.set_data_value(\"Data_01=\"+str(ProtoData.Data_01))\n",
    "        myvar_Data_02.set_data_value(\"Data_02=\"+str(ProtoData.Data_02))\n",
    "        myvar_Data_03.set_data_value(\"Data_03=\"+str(ProtoData.Data_03))\n",
    "        myvar_Data_04.set_data_value(\"Data_01=\"+str(ProtoData.Data_04))\n",
    "  "
   ]
  },
  {
   "cell_type": "code",
   "execution_count": null,
   "metadata": {},
   "outputs": [],
   "source": [
    "#renderer.app(plot, show=True)\n",
    "#doc = renderer.server_doc(plot)\n",
    "#doc.add_periodic_callback(cb, 10)"
   ]
  },
  {
   "cell_type": "code",
   "execution_count": null,
   "metadata": {},
   "outputs": [],
   "source": [
    "sensor_stream"
   ]
  },
  {
   "cell_type": "code",
   "execution_count": null,
   "metadata": {},
   "outputs": [],
   "source": []
  },
  {
   "cell_type": "code",
   "execution_count": null,
   "metadata": {},
   "outputs": [],
   "source": []
  },
  {
   "cell_type": "code",
   "execution_count": null,
   "metadata": {},
   "outputs": [],
   "source": [
    "h3=hv.DynamicMap(hv.Scatter, streams=[buffer2]).opts(xlabel='time',ylabel='sensor data',color='red',\n",
    "                                               tools=['hover'],\n",
    "    padding=0.1, width=600,show_grid=True).relabel('Sensor Streaming')\n"
   ]
  },
  {
   "cell_type": "code",
   "execution_count": null,
   "metadata": {},
   "outputs": [],
   "source": [
    "(h3.relabel('sensor1')).opts(\n",
    "    opts.Scatter(width=500, show_grid=True),\n",
    "opts.Overlay(width=800, height=400, legend_position='top_left'))"
   ]
  },
  {
   "cell_type": "code",
   "execution_count": null,
   "metadata": {},
   "outputs": [],
   "source": []
  },
  {
   "cell_type": "code",
   "execution_count": null,
   "metadata": {},
   "outputs": [],
   "source": [
    "import holoviews as hv\n",
    "hv.extension('bokeh')\n",
    "h = hv.Curve([1,2,7], 'x_col', 'y_col')\n",
    "\n",
    "from bokeh.io import show\n",
    "from bokeh.models.tickers import FixedTicker\n",
    "\n",
    "b = hv.render(h)\n",
    "b.axis[0].ticker = FixedTicker(ticks=list(range(0, 10)))\n",
    "show(b)"
   ]
  },
  {
   "cell_type": "code",
   "execution_count": null,
   "metadata": {},
   "outputs": [],
   "source": []
  },
  {
   "cell_type": "code",
   "execution_count": null,
   "metadata": {},
   "outputs": [],
   "source": []
  },
  {
   "cell_type": "code",
   "execution_count": null,
   "metadata": {},
   "outputs": [],
   "source": []
  },
  {
   "cell_type": "code",
   "execution_count": null,
   "metadata": {},
   "outputs": [],
   "source": []
  },
  {
   "cell_type": "code",
   "execution_count": null,
   "metadata": {},
   "outputs": [],
   "source": [
    "def proto_reader():\n",
    "    while True:\n",
    "        data, addr = sock.recvfrom(1024) # buffer size is 1024 bytes        \n",
    "        #print(data)\n",
    "        ProtoData = messages_pb2.DataMessage()\n",
    "        ProtoData.ParseFromString(data)\n",
    "        print(ProtoData)\n",
    "        #return ProtoData"
   ]
  },
  {
   "cell_type": "code",
   "execution_count": null,
   "metadata": {},
   "outputs": [],
   "source": [
    "proto_reader()"
   ]
  },
  {
   "cell_type": "code",
   "execution_count": null,
   "metadata": {},
   "outputs": [],
   "source": [
    "def proto_reader():\n",
    "    while True:\n",
    "        data, addr = sock.recvfrom(1024) # buffer size is 1024 bytes        \n",
    "        ProtoData = messages_pb2.DataMessage()\n",
    "        ProtoData.ParseFromString(data)\n",
    "        print(ProtoData.id,ProtoData.sample_number,\n",
    "              ProtoData.unix_time,ProtoData.unix_time_nsecs,\n",
    "              ProtoData.time_uncertainty,ProtoData.Data_01,\n",
    "              ProtoData.Data_02,ProtoData.Data_03,ProtoData.Data_04)"
   ]
  },
  {
   "cell_type": "code",
   "execution_count": null,
   "metadata": {},
   "outputs": [],
   "source": [
    "\n",
    "AllData=[ProtoData.id,\n",
    "   ProtoData.sample_number,\n",
    "   ProtoData.unix_time,\n",
    "   ProtoData.unix_time_nsecs,\n",
    "   ProtoData.time_uncertainty,\n",
    "   int(ProtoData.Data_01),\n",
    "   int(ProtoData.Data_02),\n",
    "   int(ProtoData.Data_03),\n",
    "   int(ProtoData.Data_04)]"
   ]
  }
 ],
 "metadata": {
  "kernelspec": {
   "display_name": "Python 3",
   "language": "python",
   "name": "python3"
  },
  "language_info": {
   "codemirror_mode": {
    "name": "ipython",
    "version": 3
   },
   "file_extension": ".py",
   "mimetype": "text/x-python",
   "name": "python",
   "nbconvert_exporter": "python",
   "pygments_lexer": "ipython3",
   "version": "3.7.3"
  }
 },
 "nbformat": 4,
 "nbformat_minor": 2
}
