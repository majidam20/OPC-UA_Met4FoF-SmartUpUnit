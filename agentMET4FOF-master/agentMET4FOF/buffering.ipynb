{
 "cells": [
  {
   "cell_type": "code",
   "execution_count": null,
   "metadata": {},
   "outputs": [],
   "source": [
    "import socket\n",
    "import messages_pb2\n",
    "import pyarrow as pa\n",
    "\n",
    "UDP_IP = \"192.168.2.100\"\n",
    "UDP_PORT = 7000\n",
    "sock = socket.socket(socket.AF_INET, socket.SOCK_DGRAM)  # UDP\n",
    "sock.bind((UDP_IP, UDP_PORT))\n"
   ]
  },
  {
   "cell_type": "code",
   "execution_count": null,
   "metadata": {},
   "outputs": [],
   "source": [
    "import numpy as np\n",
    "from numpy_ringbuffer import RingBuffer "
   ]
  },
  {
   "cell_type": "code",
   "execution_count": null,
   "metadata": {},
   "outputs": [],
   "source": [
    "counter=0\n",
    "while True:\n",
    "      data, addr = sock.recvfrom(1024)\n",
    "      ProtoData = messages_pb2.DataMessage()\n",
    "      ProtoData.ParseFromString(data)\n",
    "      #print(ProtoData.Data_01)\n",
    "      \n",
    "      r = RingBuffer(capacity=1000, dtype=np.float)\n",
    "      r.append(ProtoData.Data_01)\n",
    "      counter+=1\n",
    "      if counter==10:\n",
    "         print('yessssss')\n",
    "         break \n",
    "      #print (r)\n",
    "          \n",
    "            \n"
   ]
  },
  {
   "cell_type": "code",
   "execution_count": null,
   "metadata": {},
   "outputs": [],
   "source": [
    "print(r[100])"
   ]
  },
  {
   "cell_type": "code",
   "execution_count": null,
   "metadata": {},
   "outputs": [],
   "source": []
  }
 ],
 "metadata": {
  "kernelspec": {
   "display_name": "Python 3",
   "language": "python",
   "name": "python3"
  },
  "language_info": {
   "codemirror_mode": {
    "name": "ipython",
    "version": 3
   },
   "file_extension": ".py",
   "mimetype": "text/x-python",
   "name": "python",
   "nbconvert_exporter": "python",
   "pygments_lexer": "ipython3",
   "version": "3.7.3"
  }
 },
 "nbformat": 4,
 "nbformat_minor": 2
}
